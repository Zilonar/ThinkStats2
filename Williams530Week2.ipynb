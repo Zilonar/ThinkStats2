{
  "nbformat": 4,
  "nbformat_minor": 0,
  "metadata": {
    "colab": {
      "provenance": [],
      "authorship_tag": "ABX9TyNSqSVahhtPnwPz+4SMTAIq",
      "include_colab_link": true
    },
    "kernelspec": {
      "name": "python3",
      "display_name": "Python 3"
    },
    "language_info": {
      "name": "python"
    }
  },
  "cells": [
    {
      "cell_type": "markdown",
      "metadata": {
        "id": "view-in-github",
        "colab_type": "text"
      },
      "source": [
        "<a href=\"https://colab.research.google.com/github/Zilonar/ThinkStats2/blob/master/Williams530Week2.ipynb\" target=\"_parent\"><img src=\"https://colab.research.google.com/assets/colab-badge.svg\" alt=\"Open In Colab\"/></a>"
      ]
    },
    {
      "cell_type": "code",
      "execution_count": null,
      "metadata": {
        "id": "JD_C9C42HpVg"
      },
      "outputs": [],
      "source": [
        "'''\n",
        "Assignment: Exercise 2.1\n",
        "Name: Ferrell, Michael\n",
        "Date: 2024-06-16\n",
        "Display the text “Hello World! My name is ....\"\n",
        "Add two numbers together\n",
        "Subtract a number from another number\n",
        "Multiply two numbers\n",
        "Divide between two numbers\n",
        "Concatenate two strings together (any words)\n",
        "Create a list of 4 items (can be strings, numbers, both)\n",
        "Append an item to your list (again, can be a string, number)\n",
        "Create a tuple with 4 items (can be strings, numbers, both)\n",
        "'''\n",
        "# Variables\n",
        "num1 = 1\n",
        "num2 = 2\n",
        "str1 = \"String 1\"\n",
        "str2 = \"String 2\"\n",
        "# Formulas Part 1\n",
        "add = num1 + num2\n",
        "sub = num1 - num2\n",
        "multiply = num1 * num2\n",
        "\n",
        "divide = num1 / num2\n",
        "concat = str1 + \" \" + str2\n",
        "my_list = [\"banana\", \"apple\", \"tangerine”, “pineapple\"]\n",
        "# Printing Part 1\n",
        "print(\"Hello World! My name is Michael Ferrell\") # Printing Hello World\n",
        "print(\"Sum:\", add)\n",
        "print(\"Subtraction:\", sub)\n",
        "print(\"Multiplication:\", multiply)\n",
        "print(\"Division:\", divide)\n",
        "print(\"Concatenated String:\", concat)\n",
        "print(\"List:\", my_list)\n",
        "# Formulas Part 2\n",
        "my_list.append(\"'papaya'\")\n",
        "my_tuple = (1, 2, \"banana\", \"apple\")\n",
        "# Printing Part 2\n",
        "print(\"Updated List:\", my_list)\n",
        "print(\"Tuple:\", my_tuple)"
      ]
    },
    {
      "cell_type": "markdown",
      "source": [
        "\n",
        "OUTPUT\\\n",
        "Hello World! My name is Michael Ferrell\\\n",
        "Sum: 3\\\n",
        "Subtraction: -1\\\n",
        "Multiplication: 2\\\n",
        "Division: 0.5\\\n",
        "Concatenated String: String 1 String 2\\\n",
        "List: ['banana', 'apple', 'tangerine', 'pineapple']\\\n",
        "Updated List: ['banana', 'apple', 'tangerine', 'pineapple', 'papaya']\\\n",
        "Tuple: (1, 2, 'banana', 'apple')"
      ],
      "metadata": {
        "id": "s5rZVasNHtgB"
      }
    }
  ]
}